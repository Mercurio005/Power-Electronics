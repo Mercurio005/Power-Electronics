{
 "cells": [
  {
   "cell_type": "markdown",
   "metadata": {},
   "source": [
    "### Homework [Example 1]\n",
    "#### MOSFET drive circuit\n",
    "A PSpice model for the IRF150 power MOSFET is available in the PSpice demo version in\n",
    "the EVAL file. \n",
    "\n",
    "(a) Use a PSpice simulation to determine the resulting turn-on and turnoff\n",
    "times and the power dissipated in the MOSFET for the circuit of Fig.1a. Use $V_{s}=80 \\mathrm{V}$\n",
    "and a load resistance of $10 \\Omega$. The switch control voltage vi is a $0-$ to $15V$ pulse, and $R_{1}= 100 \\Omega$.\n",
    "\n",
    "(b) Repeat for the circuit of Fig.1c. with $R_{1}= R_{2} = 1 \\mathrm{k} \\Omega$. The switching frequency for each case is 200 kHz, and the duty ratio of the switch control voltage is 50 percent.\n",
    "\n",
    "### Homework [Example 2]\n",
    "#### Bipolar Transistor Drive Circuit\n",
    "Bipolar Transistor Drive Circuit\n",
    "Design a BJT base drive circuit with the configuration of Fig. 10-7a that has a spike of $1 A$ at turn-on and maintains a base current of $0.2 A$ in the on state. The voltage vi is a pulse of $0$ to $15 V$ with a $50$ percent duty ratio, and the switching frequency is $100 kHz$. Assume that $v_{B E}$ is 0.9 V when the transistor is on.\n",
    "\n",
    "### Homework [Example 3]\n",
    "#### PSpice Simulation for a BJT Drive Circuit\n",
    "Use PSpice to simulate the circuit of Fig.8a with $V_{s}=80 \\mathrm{V}$, a $10-\\Omega$ load resistor, and the base drive components from Example 2: (a) with the base capacitor omitted and (b) with the base drive capacitor included. Determine the power absorbed by the transistor for each case. Use the 2N5686 PSpice model from ON Semiconductor.\n",
    "\n",
    "\n",
    "\n",
    "\n",
    "#### ■ Solutions:\n",
    "\n",
    "##### [Example 1]\n",
    "\n",
    "(a) The elementary drive circuit is created for Fig.1a using VPULSE for the switch control voltage. The resulting switching waveforms from Probe are shown in Fig.3a. Switching transition times are roughly $1.7$ and $0.5 \\mu s$ for turnoff and turn-on, respectively. Average power absorbed by the MOSFET is determined from Probe by entering AVG(W(M1)), which yields a result of approximately 38 W.\n",
    "\n",
    "(b) The emitter-follower drive circuit of Fig.1c is created using 2N3904 NPN and 2N3906 PNP transistors from the evaluation library. The resulting switching waveforms are shown in Fig.3b. The switching times are roughly $0.4$ and $0.2 \\mu s$ for turnoff and turn-on, and the power absorbed by the transistor is $7.8 W$. Note that the emitter-follower drive circuit removes the gate charge more rapidly than the elementary drive circuit in part (a).\n",
    "\n",
    "\n",
    "<p align=\"center\"><img src=\"images/Switching_Waveforms_for_Example.png\"></p>\n",
    "Figure 3. Switching waveforms for Example. (a)Elementary MOSFET drive circuit; (b) Double emitter-follower drive circuit.\n",
    "\n",
    "##### [Example 2]\n",
    "The value of $R_{1}$ is determined from the initial current spike requirement. Solving for $R_{1}$ [Eq.1],\n",
    "\n",
    "$R_{1}=\\frac{V_{i}-v_{B E}}{I_{B_{1}}}=\\frac{15-0.9}{1}=14.1 \\Omega$\n",
    "\n",
    "The steady-state base current in the on state determines $R_{2}$. [Eq.2],\n",
    "\n",
    "$R_{2}=\\frac{V_{i}-v_{B E}}{I_{B_{2}}}-R_{1}=\\frac{15-0.9}{0.2}-14.1=56.4 \\Omega$\n",
    "\n",
    "The value of $C$ is determined from the required time constant. For a 50 percent duty ratio at $100 kHz$, the transistor is on for 5$\\mu \\mathrm{S}$. Letting the on time for the transistor be five time constants, $\\tau=1 \\mu \\mathrm{s}$. [Eq.3]\n",
    "\n",
    "$\\tau=R_{E} C=\\left(\\frac{R_{1} R_{2}}{R_{1}+R_{2}}\\right) C=11.3 C=1 \\mu \\mathrm{s}$\n",
    "$C=88.7 \\mathrm{nF}$\n",
    "\n",
    "##### [Example 3]\n",
    "The circuit of Fig.8a is created using VPULSE for the control voltage source. The transistor model is obtained from the ON Semiconductor website, and the model is copied and pasted into the QbreakN transistor model by choosing Edit, PSpice Model. The resulting switching waveforms are shown in Fig.8. Note the significant difference in switching times with and without the base drive capacitance. Power absorbed by the transistor is determined by entering AVG(W(Q1)) which yields results of $30 W$ without the base capacitor and $5 W$ with the capacitor.\n",
    "\n",
    "<p align=\"center\"><img src=\"images/Switching_Waveforms_for_a_Bipolar_Junction_Transistor.png\"></p>\n",
    "Figure 8. Switching waveforms for a bipolar junction transistor (a) without the base\n",
    "capacitor and (b) with the base capacitor. The voltage is scaled by $\\frac{1}{8}$."
   ]
  }
 ],
 "metadata": {
  "kernelspec": {
   "display_name": "Python 3",
   "language": "python",
   "name": "python3"
  },
  "language_info": {
   "codemirror_mode": {
    "name": "ipython",
    "version": 3
   },
   "file_extension": ".py",
   "mimetype": "text/x-python",
   "name": "python",
   "nbconvert_exporter": "python",
   "pygments_lexer": "ipython3",
   "version": "3.7.3"
  }
 },
 "nbformat": 4,
 "nbformat_minor": 2
}
